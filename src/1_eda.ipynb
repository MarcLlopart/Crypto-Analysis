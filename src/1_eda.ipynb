{
 "cells": [
  {
   "cell_type": "code",
   "execution_count": 3,
   "metadata": {},
   "outputs": [],
   "source": [
    "import pandas as pd \n",
    "import numpy as np\n",
    "import matplotlib.pyplot as plt \n",
    "\n",
    "import warnings\n",
    "\n",
    "warnings.filterwarnings('ignore')\n",
    "\n",
    "plt.style.use('ggplot')\n",
    "\n",
    "DATA_DIR = 'data'"
   ]
  },
  {
   "cell_type": "code",
   "execution_count": 5,
   "metadata": {},
   "outputs": [
    {
     "data": {
      "text/html": [
       "<div>\n",
       "<style scoped>\n",
       "    .dataframe tbody tr th:only-of-type {\n",
       "        vertical-align: middle;\n",
       "    }\n",
       "\n",
       "    .dataframe tbody tr th {\n",
       "        vertical-align: top;\n",
       "    }\n",
       "\n",
       "    .dataframe thead th {\n",
       "        text-align: right;\n",
       "    }\n",
       "</style>\n",
       "<table border=\"1\" class=\"dataframe\">\n",
       "  <thead>\n",
       "    <tr style=\"text-align: right;\">\n",
       "      <th></th>\n",
       "      <th>Transaction_ID</th>\n",
       "      <th>User_ID</th>\n",
       "      <th>Crypto</th>\n",
       "      <th>Transaction_Type</th>\n",
       "      <th>Amount</th>\n",
       "      <th>Price_Per_Unit</th>\n",
       "      <th>Total_Value</th>\n",
       "      <th>Transaction_Fee</th>\n",
       "      <th>Platform</th>\n",
       "      <th>Status</th>\n",
       "      <th>Wallet_Type</th>\n",
       "      <th>Transaction_Date</th>\n",
       "    </tr>\n",
       "  </thead>\n",
       "  <tbody>\n",
       "    <tr>\n",
       "      <th>0</th>\n",
       "      <td>434465</td>\n",
       "      <td>31394</td>\n",
       "      <td>Bitcoin</td>\n",
       "      <td>Withdraw</td>\n",
       "      <td>57.695145</td>\n",
       "      <td>45248.78</td>\n",
       "      <td>2610634.92</td>\n",
       "      <td>114990.70</td>\n",
       "      <td>KuCoin</td>\n",
       "      <td>Completed</td>\n",
       "      <td>Trezor</td>\n",
       "      <td>2024-04-10 09:51:58.222424</td>\n",
       "    </tr>\n",
       "    <tr>\n",
       "      <th>1</th>\n",
       "      <td>905397</td>\n",
       "      <td>39627</td>\n",
       "      <td>Solana</td>\n",
       "      <td>Stake</td>\n",
       "      <td>27.708982</td>\n",
       "      <td>48307.43</td>\n",
       "      <td>1338549.71</td>\n",
       "      <td>34560.11</td>\n",
       "      <td>Binance</td>\n",
       "      <td>Failed</td>\n",
       "      <td>Cold Wallet</td>\n",
       "      <td>2023-10-04 09:51:58.222424</td>\n",
       "    </tr>\n",
       "    <tr>\n",
       "      <th>2</th>\n",
       "      <td>451293</td>\n",
       "      <td>11506</td>\n",
       "      <td>Cardano</td>\n",
       "      <td>Buy</td>\n",
       "      <td>80.368977</td>\n",
       "      <td>44428.82</td>\n",
       "      <td>3570698.81</td>\n",
       "      <td>38312.76</td>\n",
       "      <td>OKX</td>\n",
       "      <td>Pending</td>\n",
       "      <td>Hot Wallet</td>\n",
       "      <td>2024-11-15 09:51:58.222424</td>\n",
       "    </tr>\n",
       "    <tr>\n",
       "      <th>3</th>\n",
       "      <td>841249</td>\n",
       "      <td>84005</td>\n",
       "      <td>XRP</td>\n",
       "      <td>Stake</td>\n",
       "      <td>83.900483</td>\n",
       "      <td>8755.31</td>\n",
       "      <td>734574.74</td>\n",
       "      <td>1396.89</td>\n",
       "      <td>FTX</td>\n",
       "      <td>Completed</td>\n",
       "      <td>Exchange Wallet</td>\n",
       "      <td>2024-02-11 09:51:58.222424</td>\n",
       "    </tr>\n",
       "    <tr>\n",
       "      <th>4</th>\n",
       "      <td>762686</td>\n",
       "      <td>66706</td>\n",
       "      <td>Dogecoin</td>\n",
       "      <td>Stake</td>\n",
       "      <td>52.528368</td>\n",
       "      <td>58667.26</td>\n",
       "      <td>3081695.42</td>\n",
       "      <td>19087.58</td>\n",
       "      <td>Kraken</td>\n",
       "      <td>Pending</td>\n",
       "      <td>Exchange Wallet</td>\n",
       "      <td>2023-09-15 09:51:58.222424</td>\n",
       "    </tr>\n",
       "  </tbody>\n",
       "</table>\n",
       "</div>"
      ],
      "text/plain": [
       "   Transaction_ID  User_ID    Crypto Transaction_Type     Amount  \\\n",
       "0          434465    31394   Bitcoin         Withdraw  57.695145   \n",
       "1          905397    39627    Solana            Stake  27.708982   \n",
       "2          451293    11506   Cardano              Buy  80.368977   \n",
       "3          841249    84005       XRP            Stake  83.900483   \n",
       "4          762686    66706  Dogecoin            Stake  52.528368   \n",
       "\n",
       "   Price_Per_Unit  Total_Value  Transaction_Fee Platform     Status  \\\n",
       "0        45248.78   2610634.92        114990.70   KuCoin  Completed   \n",
       "1        48307.43   1338549.71         34560.11  Binance     Failed   \n",
       "2        44428.82   3570698.81         38312.76      OKX    Pending   \n",
       "3         8755.31    734574.74          1396.89      FTX  Completed   \n",
       "4        58667.26   3081695.42         19087.58   Kraken    Pending   \n",
       "\n",
       "       Wallet_Type            Transaction_Date  \n",
       "0           Trezor  2024-04-10 09:51:58.222424  \n",
       "1      Cold Wallet  2023-10-04 09:51:58.222424  \n",
       "2       Hot Wallet  2024-11-15 09:51:58.222424  \n",
       "3  Exchange Wallet  2024-02-11 09:51:58.222424  \n",
       "4  Exchange Wallet  2023-09-15 09:51:58.222424  "
      ]
     },
     "execution_count": 5,
     "metadata": {},
     "output_type": "execute_result"
    }
   ],
   "source": [
    "transactions = pd.read_csv(f'../{DATA_DIR}/transactions.csv')\n",
    "transactions.head()"
   ]
  },
  {
   "cell_type": "code",
   "execution_count": 6,
   "metadata": {},
   "outputs": [
    {
     "name": "stdout",
     "output_type": "stream",
     "text": [
      "<class 'pandas.core.frame.DataFrame'>\n",
      "RangeIndex: 10000 entries, 0 to 9999\n",
      "Data columns (total 12 columns):\n",
      " #   Column            Non-Null Count  Dtype  \n",
      "---  ------            --------------  -----  \n",
      " 0   Transaction_ID    10000 non-null  int64  \n",
      " 1   User_ID           10000 non-null  int64  \n",
      " 2   Crypto            10000 non-null  object \n",
      " 3   Transaction_Type  10000 non-null  object \n",
      " 4   Amount            10000 non-null  float64\n",
      " 5   Price_Per_Unit    10000 non-null  float64\n",
      " 6   Total_Value       10000 non-null  float64\n",
      " 7   Transaction_Fee   10000 non-null  float64\n",
      " 8   Platform          10000 non-null  object \n",
      " 9   Status            10000 non-null  object \n",
      " 10  Wallet_Type       10000 non-null  object \n",
      " 11  Transaction_Date  10000 non-null  object \n",
      "dtypes: float64(4), int64(2), object(6)\n",
      "memory usage: 937.6+ KB\n"
     ]
    }
   ],
   "source": [
    "transactions.info()"
   ]
  },
  {
   "cell_type": "code",
   "execution_count": 7,
   "metadata": {},
   "outputs": [
    {
     "data": {
      "text/html": [
       "<div>\n",
       "<style scoped>\n",
       "    .dataframe tbody tr th:only-of-type {\n",
       "        vertical-align: middle;\n",
       "    }\n",
       "\n",
       "    .dataframe tbody tr th {\n",
       "        vertical-align: top;\n",
       "    }\n",
       "\n",
       "    .dataframe thead th {\n",
       "        text-align: right;\n",
       "    }\n",
       "</style>\n",
       "<table border=\"1\" class=\"dataframe\">\n",
       "  <thead>\n",
       "    <tr style=\"text-align: right;\">\n",
       "      <th></th>\n",
       "      <th>Transaction_ID</th>\n",
       "      <th>User_ID</th>\n",
       "      <th>Amount</th>\n",
       "      <th>Price_Per_Unit</th>\n",
       "      <th>Total_Value</th>\n",
       "      <th>Transaction_Fee</th>\n",
       "    </tr>\n",
       "  </thead>\n",
       "  <tbody>\n",
       "    <tr>\n",
       "      <th>count</th>\n",
       "      <td>10000.000000</td>\n",
       "      <td>10000.00000</td>\n",
       "      <td>10000.000000</td>\n",
       "      <td>10000.000000</td>\n",
       "      <td>1.000000e+04</td>\n",
       "      <td>10000.000000</td>\n",
       "    </tr>\n",
       "    <tr>\n",
       "      <th>mean</th>\n",
       "      <td>547132.392100</td>\n",
       "      <td>55176.38050</td>\n",
       "      <td>50.120755</td>\n",
       "      <td>29888.220522</td>\n",
       "      <td>1.506658e+06</td>\n",
       "      <td>37555.080850</td>\n",
       "    </tr>\n",
       "    <tr>\n",
       "      <th>std</th>\n",
       "      <td>262163.276431</td>\n",
       "      <td>25823.90504</td>\n",
       "      <td>28.902577</td>\n",
       "      <td>17215.202926</td>\n",
       "      <td>1.327017e+06</td>\n",
       "      <td>43871.976036</td>\n",
       "    </tr>\n",
       "    <tr>\n",
       "      <th>min</th>\n",
       "      <td>100027.000000</td>\n",
       "      <td>10016.00000</td>\n",
       "      <td>0.024363</td>\n",
       "      <td>10.270000</td>\n",
       "      <td>3.665000e+01</td>\n",
       "      <td>0.040000</td>\n",
       "    </tr>\n",
       "    <tr>\n",
       "      <th>25%</th>\n",
       "      <td>318120.750000</td>\n",
       "      <td>32775.00000</td>\n",
       "      <td>24.889845</td>\n",
       "      <td>15240.167500</td>\n",
       "      <td>4.124107e+05</td>\n",
       "      <td>6007.977500</td>\n",
       "    </tr>\n",
       "    <tr>\n",
       "      <th>50%</th>\n",
       "      <td>547635.000000</td>\n",
       "      <td>55643.00000</td>\n",
       "      <td>49.887958</td>\n",
       "      <td>29823.745000</td>\n",
       "      <td>1.124990e+06</td>\n",
       "      <td>21182.080000</td>\n",
       "    </tr>\n",
       "    <tr>\n",
       "      <th>75%</th>\n",
       "      <td>775336.000000</td>\n",
       "      <td>77450.00000</td>\n",
       "      <td>75.319944</td>\n",
       "      <td>44728.790000</td>\n",
       "      <td>2.310646e+06</td>\n",
       "      <td>53563.732500</td>\n",
       "    </tr>\n",
       "    <tr>\n",
       "      <th>max</th>\n",
       "      <td>999919.000000</td>\n",
       "      <td>99986.00000</td>\n",
       "      <td>99.997361</td>\n",
       "      <td>59995.760000</td>\n",
       "      <td>5.881193e+06</td>\n",
       "      <td>287527.830000</td>\n",
       "    </tr>\n",
       "  </tbody>\n",
       "</table>\n",
       "</div>"
      ],
      "text/plain": [
       "       Transaction_ID      User_ID        Amount  Price_Per_Unit  \\\n",
       "count    10000.000000  10000.00000  10000.000000    10000.000000   \n",
       "mean    547132.392100  55176.38050     50.120755    29888.220522   \n",
       "std     262163.276431  25823.90504     28.902577    17215.202926   \n",
       "min     100027.000000  10016.00000      0.024363       10.270000   \n",
       "25%     318120.750000  32775.00000     24.889845    15240.167500   \n",
       "50%     547635.000000  55643.00000     49.887958    29823.745000   \n",
       "75%     775336.000000  77450.00000     75.319944    44728.790000   \n",
       "max     999919.000000  99986.00000     99.997361    59995.760000   \n",
       "\n",
       "        Total_Value  Transaction_Fee  \n",
       "count  1.000000e+04     10000.000000  \n",
       "mean   1.506658e+06     37555.080850  \n",
       "std    1.327017e+06     43871.976036  \n",
       "min    3.665000e+01         0.040000  \n",
       "25%    4.124107e+05      6007.977500  \n",
       "50%    1.124990e+06     21182.080000  \n",
       "75%    2.310646e+06     53563.732500  \n",
       "max    5.881193e+06    287527.830000  "
      ]
     },
     "execution_count": 7,
     "metadata": {},
     "output_type": "execute_result"
    }
   ],
   "source": [
    "transactions.describe()"
   ]
  },
  {
   "cell_type": "code",
   "execution_count": 9,
   "metadata": {},
   "outputs": [
    {
     "data": {
      "text/plain": [
       "array(['Bitcoin', 'Solana', 'Cardano', 'XRP', 'Dogecoin', 'BNB',\n",
       "       'Polkadot', 'Litecoin', 'Avalanche', 'Ethereum'], dtype=object)"
      ]
     },
     "execution_count": 9,
     "metadata": {},
     "output_type": "execute_result"
    }
   ],
   "source": [
    "transactions['Crypto'].unique()"
   ]
  },
  {
   "cell_type": "code",
   "execution_count": 10,
   "metadata": {},
   "outputs": [
    {
     "data": {
      "text/plain": [
       "array(['Withdraw', 'Stake', 'Buy', 'Sell', 'Transfer'], dtype=object)"
      ]
     },
     "execution_count": 10,
     "metadata": {},
     "output_type": "execute_result"
    }
   ],
   "source": [
    "transactions['Transaction_Type'].unique()"
   ]
  },
  {
   "cell_type": "code",
   "execution_count": 11,
   "metadata": {},
   "outputs": [
    {
     "data": {
      "text/plain": [
       "array(['KuCoin', 'Binance', 'OKX', 'FTX', 'Kraken', 'Coinbase', 'Huobi'],\n",
       "      dtype=object)"
      ]
     },
     "execution_count": 11,
     "metadata": {},
     "output_type": "execute_result"
    }
   ],
   "source": [
    "transactions['Platform'].unique()"
   ]
  },
  {
   "cell_type": "code",
   "execution_count": null,
   "metadata": {},
   "outputs": [],
   "source": [
    "transactions['Crypto'].unique()"
   ]
  }
 ],
 "metadata": {
  "kernelspec": {
   "display_name": "Python 3",
   "language": "python",
   "name": "python3"
  },
  "language_info": {
   "codemirror_mode": {
    "name": "ipython",
    "version": 3
   },
   "file_extension": ".py",
   "mimetype": "text/x-python",
   "name": "python",
   "nbconvert_exporter": "python",
   "pygments_lexer": "ipython3",
   "version": "3.11.0"
  }
 },
 "nbformat": 4,
 "nbformat_minor": 2
}
